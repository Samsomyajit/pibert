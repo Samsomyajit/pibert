{
 "cells": [
  {
   "cell_type": "markdown",
   "metadata": {},
   "source": [
    "# PIBERT Quickstart (CPU)\n",
    "\n",
    "This notebook demonstrates basic PIBERT functionality on CPU for quick verification of installation and basic capabilities."
   ]
  },
  {
   "cell_type": "code",
   "execution_count": null,
   "metadata": {},
   "outputs": [],
   "source": [
    "import torch\n",
    "import numpy as np\n",
    "import matplotlib.pyplot as plt\n",
    "from pibert import PIBERT\n",
    "from pibert.utils import load_dataset, plot_results\n",
    "\n",
    "# Check if CUDA is available\n",
    "print(f\"PyTorch version: {torch.__version__}\")\n",
    "print(f\"CUDA available: {torch.cuda.is_available()}\")\n",
    "print(f\"Device count: {torch.cuda.device_count()}\")\n",
    "\n",
    "# Force CPU usage\n",
    "device = torch.device(\"cpu\")\n",
    "print(f\"Using device: {device}\")"
   ]
  },
  {
   "cell_type": "code",
   "execution_count": null,
   "metadata": {},
   "outputs": [],
   "source": [
    "# Load a small dataset subset\n",
    "dataset = load_dataset(\"reaction_diffusion\")\n",
    "train_data = dataset[\"train\"]\n",
    "\n",
    "# Take a small subset for CPU demonstration\n",
    "x = train_data[\"x\"][:10].to(device)\n",
    "coords = train_data[\"coords\"][:10].to(device)\n",
    "\n",
    "print(f\"Input shape: {x.shape}\")\n",
    "print(f\"Coordinates shape: {coords.shape}\")"
   ]
  },
  {
   "cell_type": "code",
   "execution_count": null,
   "metadata": {},
   "outputs": [],
   "source": [
    "# Initialize a small PIBERT model\n",
    "model = PIBERT(\n",
    "    input_dim=1,\n",
    "    hidden_dim=64,\n",
    "    num_layers=2,\n",
    "    num_heads=4,\n",
    "    fourier_features=True,\n",
    "    wavelet_features=True,\n",
    "    physics_attention=True\n",
    ").to(device)\n",
    "\n",
    "# Forward pass\n",
    "with torch.no_grad():\n",
    "    pred = model.predict(x, coords)\n",
    "\n",
    "print(f\"Prediction shape: {pred.shape}\")"
   ]
  },
  {
   "cell_type": "code",
   "execution_count": null,
   "metadata": {},
   "outputs": [],
   "source": [
    "# Verify basic functionality\n",
    "sample_idx = 0\n",
    "time_idx = 0\n",
    "\n",
    "plt.figure(figsize=(10, 6))\n",
    "plt.plot(x[sample_idx, :, time_idx, 0].cpu(), 'b-', label='True')\n",
    "plt.plot(pred[sample_idx, :, time_idx, 0].cpu(), 'r--', label='Predicted')\n",
    "plt.title('PIBERT CPU Verification')\n",
    "plt.xlabel('Spatial Position')\n",
    "plt.ylabel('Field Value')\n",
    "plt.legend()\n",
    "plt.show()"
   ]
  },
  {
   "cell_type": "code",
   "execution_count": null,
   "metadata": {},
   "outputs": [],
   "source": [
    "print(\"Verification complete. PIBERT is correctly installed and functional on CPU.\")"
   ]
  }
 ],
 "metadata": {
  "kernelspec": {
   "display_name": "Python 3",
   "language": "python",
   "name": "python3"
  },
  "language_info": {
   "codemirror_mode": {
    "name": "ipython",
    "version": 3
   },
   "file_extension": ".py",
   "mimetype": "text/x-python",
   "name": "python",
   "nbconvert_exporter": "python",
   "pygments_lexer": "ipython3",
   "version": "3.9.13"
  }
 },
 "nbformat": 4,
 "nbformat_minor": 4
}
